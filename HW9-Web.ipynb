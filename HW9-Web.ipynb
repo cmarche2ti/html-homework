{
 "cells": [
  {
   "cell_type": "code",
   "execution_count": 1,
   "metadata": {},
   "outputs": [],
   "source": [
    "import pandas as pd\n"
   ]
  },
  {
   "cell_type": "code",
   "execution_count": 2,
   "metadata": {},
   "outputs": [],
   "source": [
    "df = pd.read_csv('cities.csv')"
   ]
  },
  {
   "cell_type": "code",
   "execution_count": 3,
   "metadata": {},
   "outputs": [
    {
     "data": {
      "text/html": [
       "<div>\n",
       "<style scoped>\n",
       "    .dataframe tbody tr th:only-of-type {\n",
       "        vertical-align: middle;\n",
       "    }\n",
       "\n",
       "    .dataframe tbody tr th {\n",
       "        vertical-align: top;\n",
       "    }\n",
       "\n",
       "    .dataframe thead th {\n",
       "        text-align: right;\n",
       "    }\n",
       "</style>\n",
       "<table border=\"1\" class=\"dataframe\">\n",
       "  <thead>\n",
       "    <tr style=\"text-align: right;\">\n",
       "      <th></th>\n",
       "      <th>city</th>\n",
       "      <th>cloudiness</th>\n",
       "      <th>date</th>\n",
       "      <th>humidity</th>\n",
       "      <th>latitude</th>\n",
       "      <th>longitude</th>\n",
       "      <th>maximum_temperature</th>\n",
       "      <th>wind_speed</th>\n",
       "    </tr>\n",
       "  </thead>\n",
       "  <tbody>\n",
       "    <tr>\n",
       "      <th>0</th>\n",
       "      <td>chokurdakh</td>\n",
       "      <td>99</td>\n",
       "      <td>1562871333</td>\n",
       "      <td>93</td>\n",
       "      <td>70.62</td>\n",
       "      <td>147.90</td>\n",
       "      <td>56.19</td>\n",
       "      <td>13.65</td>\n",
       "    </tr>\n",
       "    <tr>\n",
       "      <th>1</th>\n",
       "      <td>yellowknife</td>\n",
       "      <td>90</td>\n",
       "      <td>1562871343</td>\n",
       "      <td>63</td>\n",
       "      <td>62.45</td>\n",
       "      <td>-114.38</td>\n",
       "      <td>60.80</td>\n",
       "      <td>4.70</td>\n",
       "    </tr>\n",
       "    <tr>\n",
       "      <th>2</th>\n",
       "      <td>peleduy</td>\n",
       "      <td>0</td>\n",
       "      <td>1562871505</td>\n",
       "      <td>73</td>\n",
       "      <td>59.63</td>\n",
       "      <td>112.75</td>\n",
       "      <td>62.49</td>\n",
       "      <td>3.13</td>\n",
       "    </tr>\n",
       "    <tr>\n",
       "      <th>3</th>\n",
       "      <td>ciudad real</td>\n",
       "      <td>0</td>\n",
       "      <td>1562871506</td>\n",
       "      <td>13</td>\n",
       "      <td>38.99</td>\n",
       "      <td>-3.93</td>\n",
       "      <td>98.60</td>\n",
       "      <td>3.36</td>\n",
       "    </tr>\n",
       "    <tr>\n",
       "      <th>4</th>\n",
       "      <td>praya</td>\n",
       "      <td>20</td>\n",
       "      <td>1562871506</td>\n",
       "      <td>100</td>\n",
       "      <td>-8.71</td>\n",
       "      <td>116.27</td>\n",
       "      <td>69.80</td>\n",
       "      <td>10.00</td>\n",
       "    </tr>\n",
       "  </tbody>\n",
       "</table>\n",
       "</div>"
      ],
      "text/plain": [
       "          city  cloudiness        date  humidity  latitude  longitude  \\\n",
       "0   chokurdakh          99  1562871333        93     70.62     147.90   \n",
       "1  yellowknife          90  1562871343        63     62.45    -114.38   \n",
       "2      peleduy           0  1562871505        73     59.63     112.75   \n",
       "3  ciudad real           0  1562871506        13     38.99      -3.93   \n",
       "4        praya          20  1562871506       100     -8.71     116.27   \n",
       "\n",
       "   maximum_temperature  wind_speed  \n",
       "0                56.19       13.65  \n",
       "1                60.80        4.70  \n",
       "2                62.49        3.13  \n",
       "3                98.60        3.36  \n",
       "4                69.80       10.00  "
      ]
     },
     "execution_count": 3,
     "metadata": {},
     "output_type": "execute_result"
    }
   ],
   "source": [
    "df.head()"
   ]
  },
  {
   "cell_type": "code",
   "execution_count": 4,
   "metadata": {},
   "outputs": [],
   "source": [
    "df.to_html('cities.html')"
   ]
  },
  {
   "cell_type": "code",
   "execution_count": null,
   "metadata": {},
   "outputs": [],
   "source": []
  }
 ],
 "metadata": {
  "kernelspec": {
   "display_name": "Python 3",
   "language": "python",
   "name": "python3"
  },
  "language_info": {
   "codemirror_mode": {
    "name": "ipython",
    "version": 3
   },
   "file_extension": ".py",
   "mimetype": "text/x-python",
   "name": "python",
   "nbconvert_exporter": "python",
   "pygments_lexer": "ipython3",
   "version": "3.7.3"
  }
 },
 "nbformat": 4,
 "nbformat_minor": 2
}
